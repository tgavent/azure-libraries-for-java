{
  "nbformat": 4,
  "nbformat_minor": 0,
  "metadata": {
    "colab": {
      "name": "562_final.ipynb",
      "provenance": [],
      "collapsed_sections": [],
      "include_colab_link": true
    },
    "kernelspec": {
      "name": "python3",
      "display_name": "Python 3"
    }
  },
  "cells": [
    {
      "cell_type": "markdown",
      "metadata": {
        "id": "view-in-github",
        "colab_type": "text"
      },
      "source": [
        "<a href=\"https://colab.research.google.com/github/tgavent/azure-libraries-for-java/blob/master/562_final.ipynb\" target=\"_parent\"><img src=\"https://colab.research.google.com/assets/colab-badge.svg\" alt=\"Open In Colab\"/></a>"
      ]
    },
    {
      "cell_type": "markdown",
      "metadata": {
        "id": "eCsE5Yq2HvJz",
        "colab_type": "text"
      },
      "source": [
        "# Exploring Machine Learning Methods for \n",
        "# Handwritten Digit Classification\n",
        "\n",
        "#### Trent Avent , Eliot McGinnis\n",
        "\n",
        "# Introduction\n",
        "For our project, we implemented a variety of both supervised and unsupervised machine learning methods in order to classify handwriten digits. Our data is taken from the MNIST library and includes 70000 images of handwriten numbers in the form of 28 x 28 arrays of RGB values. This data has been studied by many machine learning experts and is the subject of papers testing various algorithms. These papers have examined various linear classifiers, k-nearest neighbors with various choices of k, neural networks an other models. We seek to apply methods which we have learned in this class to the data, to find an optimal method of the classical approaches. We fit both unsupervised and supervised methods to the data, and gain insight into the nature of the models in the process. Because the data is pixelated, there is some variation in model performance- some models handle this form of data better than others. \n",
        "\n",
        "\n",
        "\n",
        "For preprocessing, we split the data into 60000 training instances and 10000 test cases. In order to proceed, we chose to scale the data points between zero and one by dividing all of the predictor values by 255, the previous scale.\n",
        "\n",
        "\n",
        "\n",
        "\n"
      ]
    },
    {
      "cell_type": "code",
      "metadata": {
        "id": "huiSGwCgJCn_",
        "colab_type": "code",
        "colab": {}
      },
      "source": [
        "import pandas as pd\n",
        "import numpy as np\n",
        "\n",
        "import tensorflow as tf\n",
        "import matplotlib.pyplot as plt\n",
        "\n",
        "(x_train, y_train), (x_test, y_test) = tf.keras.datasets.mnist.load_data()"
      ],
      "execution_count": 0,
      "outputs": []
    },
    {
      "cell_type": "code",
      "metadata": {
        "id": "uC3BNKKtaAd-",
        "colab_type": "code",
        "colab": {}
      },
      "source": [
        "x_train = x_train / 255.0\n",
        "x_test = x_test / 255.0\n",
        "n_samples = len(x_train)\n",
        "x1 = x_train.reshape((n_samples, -1))\n",
        "n_samples2 = len(x_test)\n",
        "x2 = x_test.reshape((n_samples2, -1))"
      ],
      "execution_count": 0,
      "outputs": []
    },
    {
      "cell_type": "code",
      "metadata": {
        "id": "fID6XOOIJ5j0",
        "colab_type": "code",
        "outputId": "878b492c-b0cb-4447-d59f-763f92f251e4",
        "colab": {
          "base_uri": "https://localhost:8080/",
          "height": 297
        }
      },
      "source": [
        "for i in range(25):\n",
        "    plt.subplot(5,5,i+1)\n",
        "    plt.xticks([])\n",
        "    plt.yticks([])\n",
        "    plt.grid(False)\n",
        "    plt.imshow(x_train[i], cmap=plt.cm.binary)\n",
        "    plt.xlabel(y_train[i])\n",
        "plt.tight_layout()"
      ],
      "execution_count": 0,
      "outputs": [
        {
          "output_type": "display_data",
          "data": {
            "image/png": "[encoded data removed]",
            "text/plain": [
              "<Figure size 432x288 with 25 Axes>"
            ]
          },
          "metadata": {
            "tags": []
          }
        }
      ]
    },
    {
      "cell_type": "markdown",
      "metadata": {
        "id": "kxvfCwxXITce",
        "colab_type": "text"
      },
      "source": [
        "### Principal Component Analysis\n",
        "\n",
        "We use the unsupervised technique principal component analysis to reduce the dimension of the data for our exploratory analysis. The first two principal components contain a large part of the variation of the data, and by plotting these components and coloring by digit value, we see some relationships in the data. Principal component analysis is an excellent way to visualize our data."
      ]
    },
    {
      "cell_type": "code",
      "metadata": {
        "id": "79CKZ9qCKlvI",
        "colab_type": "code",
        "colab": {}
      },
      "source": [
        "# PCA\n",
        "\n",
        "from sklearn.decomposition import PCA\n",
        "import pandas as pd\n",
        "from skimage import io, color\n",
        "pca = PCA(n_components=2)\n",
        "n_samples = len(x_train)\n",
        "x1 = x_train.reshape((n_samples, -1))\n",
        "pc = pca.fit_transform(x1)\n",
        "pc = pd.concat([pd.DataFrame(pc, columns = ['pc1', 'pc2']), pd.Series(y_train, name = \"y\")],1)\n"
      ],
      "execution_count": 0,
      "outputs": []
    },
    {
      "cell_type": "code",
      "metadata": {
        "id": "YPAkp5eWRAN0",
        "colab_type": "code",
        "outputId": "f4ca378f-e011-42f8-8c3c-6c396e01847d",
        "colab": {
          "base_uri": "https://localhost:8080/",
          "height": 502
        }
      },
      "source": [
        "from matplotlib import pyplot as plt\n",
        "\n",
        "fig = plt.figure(figsize = (8,8))\n",
        "ax = fig.add_subplot(1,1,1) \n",
        "ax.set_xlabel('PC1', fontsize = 15)\n",
        "ax.set_ylabel('PC2', fontsize = 15)\n",
        "\n",
        "y_values = [0,1,2,3,4,5,6,7,8,9]\n",
        "colors = ['salmon', 'peru', 'darkolivegreen','deepskyblue',\n",
        "          'indigo','gold','lime', 'blue', 'magenta']\n",
        "for target, color in zip(y_values,colors):\n",
        "    indicesToKeep = pc['y'] == target\n",
        "    ax.scatter(pc.loc[indicesToKeep, 'pc1'], pc.loc[indicesToKeep, 'pc2'],\n",
        "         c = color, s = 50)\n",
        "ax.legend(y_values)\n",
        "ax.grid()"
      ],
      "execution_count": 0,
      "outputs": [
        {
          "output_type": "display_data",
          "data": {
            "image/png": "[encoded data removed]",
            "text/plain": [
              "<Figure size 576x576 with 1 Axes>"
            ]
          },
          "metadata": {
            "tags": [],
            "needs_background": "light"
          }
        }
      ]
    },
    {
      "cell_type": "markdown",
      "metadata": {
        "id": "yflXRssQI-Wb",
        "colab_type": "text"
      },
      "source": [
        "Using only the first two principal components, there is no clear decision boundary. There is overlap among all of the classes, and our models will need to overcome this. This is natural- perhaps messier handwriting can lead to digits which are harder to recognize for both machine learning models and humans."
      ]
    },
    {
      "cell_type": "markdown",
      "metadata": {
        "id": "Liye849hzhoL",
        "colab_type": "text"
      },
      "source": [
        "# Supervised Approaches:\n",
        "\n",
        "### Support Vector Machines\n",
        "\n",
        "We fit both linear and radial basis function kernel SVM to our data and examine the results. \n",
        "\n",
        "#### Linear Kernel SVM\n",
        "\n",
        "We first implemented an SVM model using the sklearn library. We found the best choice of C to be 1. Below, we see the results and a matrix giving the classification rates for each class."
      ]
    },
    {
      "cell_type": "code",
      "metadata": {
        "id": "NVN1tCl-TqDZ",
        "colab_type": "code",
        "colab": {}
      },
      "source": [
        "from sklearn import svm\n",
        "\n",
        "svm_classifier = svm.SVC(kernel = \"linear\", C = 1) #decision_function_shape = 'ovo')\n",
        "linear_svm = svm_classifier.fit(x1,y_train)\n"
      ],
      "execution_count": 0,
      "outputs": []
    },
    {
      "cell_type": "code",
      "metadata": {
        "id": "YLnsl4ijbkGa",
        "colab_type": "code",
        "outputId": "6db87150-1571-4ab8-d00c-7ad81357b10f",
        "colab": {
          "base_uri": "https://localhost:8080/",
          "height": 424
        }
      },
      "source": [
        "pred_linsvm = linear_svm.predict(x2)\n",
        "print(\"Linear SVM test error:\")\n",
        "print(np.mean(pred_linsvm != y_test))\n",
        "pd.crosstab(pred_linsvm, y_test, rownames = ['predicted'], colnames = ['actual'], normalize = \"columns\" )"
      ],
      "execution_count": 0,
      "outputs": [
        {
          "output_type": "stream",
          "text": [
            "Linear SVM test error:\n",
            "0.0596\n"
          ],
          "name": "stdout"
        },
        {
          "output_type": "execute_result",
          "data": {
            "text/html": [
              "<div>\n",
              "<style scoped>\n",
              "    .dataframe tbody tr th:only-of-type {\n",
              "        vertical-align: middle;\n",
              "    }\n",
              "\n",
              "    .dataframe tbody tr th {\n",
              "        vertical-align: top;\n",
              "    }\n",
              "\n",
              "    .dataframe thead th {\n",
              "        text-align: right;\n",
              "    }\n",
              "</style>\n",
              "<table border=\"1\" class=\"dataframe\">\n",
              "  <thead>\n",
              "    <tr style=\"text-align: right;\">\n",
              "      <th>actual</th>\n",
              "      <th>0</th>\n",
              "      <th>1</th>\n",
              "      <th>2</th>\n",
              "      <th>3</th>\n",
              "      <th>4</th>\n",
              "      <th>5</th>\n",
              "      <th>6</th>\n",
              "      <th>7</th>\n",
              "      <th>8</th>\n",
              "      <th>9</th>\n",
              "    </tr>\n",
              "    <tr>\n",
              "      <th>predicted</th>\n",
              "      <th></th>\n",
              "      <th></th>\n",
              "      <th></th>\n",
              "      <th></th>\n",
              "      <th></th>\n",
              "      <th></th>\n",
              "      <th></th>\n",
              "      <th></th>\n",
              "      <th></th>\n",
              "      <th></th>\n",
              "    </tr>\n",
              "  </thead>\n",
              "  <tbody>\n",
              "    <tr>\n",
              "      <th>0</th>\n",
              "      <td>0.976531</td>\n",
              "      <td>0.000000</td>\n",
              "      <td>0.007752</td>\n",
              "      <td>0.003960</td>\n",
              "      <td>0.001018</td>\n",
              "      <td>0.011211</td>\n",
              "      <td>0.009395</td>\n",
              "      <td>0.000973</td>\n",
              "      <td>0.008214</td>\n",
              "      <td>0.006938</td>\n",
              "    </tr>\n",
              "    <tr>\n",
              "      <th>1</th>\n",
              "      <td>0.000000</td>\n",
              "      <td>0.988546</td>\n",
              "      <td>0.005814</td>\n",
              "      <td>0.002970</td>\n",
              "      <td>0.001018</td>\n",
              "      <td>0.004484</td>\n",
              "      <td>0.002088</td>\n",
              "      <td>0.007782</td>\n",
              "      <td>0.004107</td>\n",
              "      <td>0.006938</td>\n",
              "    </tr>\n",
              "    <tr>\n",
              "      <th>2</th>\n",
              "      <td>0.004082</td>\n",
              "      <td>0.002643</td>\n",
              "      <td>0.937016</td>\n",
              "      <td>0.015842</td>\n",
              "      <td>0.010183</td>\n",
              "      <td>0.003363</td>\n",
              "      <td>0.013570</td>\n",
              "      <td>0.020428</td>\n",
              "      <td>0.006160</td>\n",
              "      <td>0.001982</td>\n",
              "    </tr>\n",
              "    <tr>\n",
              "      <th>3</th>\n",
              "      <td>0.001020</td>\n",
              "      <td>0.001762</td>\n",
              "      <td>0.010659</td>\n",
              "      <td>0.937624</td>\n",
              "      <td>0.001018</td>\n",
              "      <td>0.040359</td>\n",
              "      <td>0.001044</td>\n",
              "      <td>0.009728</td>\n",
              "      <td>0.025667</td>\n",
              "      <td>0.010902</td>\n",
              "    </tr>\n",
              "    <tr>\n",
              "      <th>4</th>\n",
              "      <td>0.001020</td>\n",
              "      <td>0.000000</td>\n",
              "      <td>0.002907</td>\n",
              "      <td>0.000990</td>\n",
              "      <td>0.959267</td>\n",
              "      <td>0.006726</td>\n",
              "      <td>0.005219</td>\n",
              "      <td>0.007782</td>\n",
              "      <td>0.007187</td>\n",
              "      <td>0.032706</td>\n",
              "    </tr>\n",
              "    <tr>\n",
              "      <th>5</th>\n",
              "      <td>0.006122</td>\n",
              "      <td>0.000881</td>\n",
              "      <td>0.002907</td>\n",
              "      <td>0.015842</td>\n",
              "      <td>0.002037</td>\n",
              "      <td>0.900224</td>\n",
              "      <td>0.016701</td>\n",
              "      <td>0.000973</td>\n",
              "      <td>0.026694</td>\n",
              "      <td>0.003964</td>\n",
              "    </tr>\n",
              "    <tr>\n",
              "      <th>6</th>\n",
              "      <td>0.009184</td>\n",
              "      <td>0.001762</td>\n",
              "      <td>0.006783</td>\n",
              "      <td>0.000000</td>\n",
              "      <td>0.004073</td>\n",
              "      <td>0.014574</td>\n",
              "      <td>0.949896</td>\n",
              "      <td>0.000000</td>\n",
              "      <td>0.006160</td>\n",
              "      <td>0.000000</td>\n",
              "    </tr>\n",
              "    <tr>\n",
              "      <th>7</th>\n",
              "      <td>0.001020</td>\n",
              "      <td>0.000881</td>\n",
              "      <td>0.007752</td>\n",
              "      <td>0.008911</td>\n",
              "      <td>0.002037</td>\n",
              "      <td>0.001121</td>\n",
              "      <td>0.001044</td>\n",
              "      <td>0.930934</td>\n",
              "      <td>0.007187</td>\n",
              "      <td>0.017839</td>\n",
              "    </tr>\n",
              "    <tr>\n",
              "      <th>8</th>\n",
              "      <td>0.000000</td>\n",
              "      <td>0.003524</td>\n",
              "      <td>0.016473</td>\n",
              "      <td>0.011881</td>\n",
              "      <td>0.003055</td>\n",
              "      <td>0.015695</td>\n",
              "      <td>0.001044</td>\n",
              "      <td>0.002918</td>\n",
              "      <td>0.900411</td>\n",
              "      <td>0.004955</td>\n",
              "    </tr>\n",
              "    <tr>\n",
              "      <th>9</th>\n",
              "      <td>0.001020</td>\n",
              "      <td>0.000000</td>\n",
              "      <td>0.001938</td>\n",
              "      <td>0.001980</td>\n",
              "      <td>0.016293</td>\n",
              "      <td>0.002242</td>\n",
              "      <td>0.000000</td>\n",
              "      <td>0.018482</td>\n",
              "      <td>0.008214</td>\n",
              "      <td>0.913776</td>\n",
              "    </tr>\n",
              "  </tbody>\n",
              "</table>\n",
              "</div>"
            ],
            "text/plain": [
              "actual            0         1         2  ...         7         8         9\n",
              "predicted                                ...                              \n",
              "0          0.976531  0.000000  0.007752  ...  0.000973  0.008214  0.006938\n",
              "1          0.000000  0.988546  0.005814  ...  0.007782  0.004107  0.006938\n",
              "2          0.004082  0.002643  0.937016  ...  0.020428  0.006160  0.001982\n",
              "3          0.001020  0.001762  0.010659  ...  0.009728  0.025667  0.010902\n",
              "4          0.001020  0.000000  0.002907  ...  0.007782  0.007187  0.032706\n",
              "5          0.006122  0.000881  0.002907  ...  0.000973  0.026694  0.003964\n",
              "6          0.009184  0.001762  0.006783  ...  0.000000  0.006160  0.000000\n",
              "7          0.001020  0.000881  0.007752  ...  0.930934  0.007187  0.017839\n",
              "8          0.000000  0.003524  0.016473  ...  0.002918  0.900411  0.004955\n",
              "9          0.001020  0.000000  0.001938  ...  0.018482  0.008214  0.913776\n",
              "\n",
              "[10 rows x 10 columns]"
            ]
          },
          "metadata": {
            "tags": []
          },
          "execution_count": 8
        }
      ]
    },
    {
      "cell_type": "markdown",
      "metadata": {
        "id": "y7jF-BH1MTyc",
        "colab_type": "text"
      },
      "source": [
        "This matrix shows the percentage of each predicted class that falls under each of the actual classes of digits. The diagonals of this matrix show the rate of correct classifications for the respective digits. We see that the model had the most rouble with classifying the digits 5 and 8."
      ]
    },
    {
      "cell_type": "code",
      "metadata": {
        "id": "raCyin5kK3ge",
        "colab_type": "code",
        "colab": {}
      },
      "source": [
        "from sklearn import svm\n",
        "svm_classifier2 = svm.SVC(kernel = \"rbf\", C = 1, gamma = \"scale\")\n",
        "rbf_svm = svm_classifier2.fit(x1,y_train)"
      ],
      "execution_count": 0,
      "outputs": []
    },
    {
      "cell_type": "code",
      "metadata": {
        "id": "_jmT5oEwK6ZK",
        "colab_type": "code",
        "colab": {}
      },
      "source": [
        "pred_rbfsvm = rbf_svm.predict(x2)\n",
        "print(\"RBF kernel SVM test error:\")\n",
        "print(np.mean(pred_rbfsvm != y_test))\n",
        "pd.crosstab(pred_rbfsvm, y_test, rownames = ['predicted'], colnames = ['actual'], normalize = \"columns\" )"
      ],
      "execution_count": 0,
      "outputs": []
    },
    {
      "cell_type": "markdown",
      "metadata": {
        "id": "R7F01CVzNHAC",
        "colab_type": "text"
      },
      "source": [
        "### Multiclass Logistic Regression\n",
        "\n",
        "We use multiclass logistic regression from the sklearn library on our data. We see the results below:"
      ]
    },
    {
      "cell_type": "code",
      "metadata": {
        "id": "-oOC1glGYhQF",
        "colab_type": "code",
        "colab": {}
      },
      "source": [
        "from sklearn.linear_model import LogisticRegression\n",
        "logit = LogisticRegression(multi_class=\"ovr\", max_iter = 1000)\n",
        "model = logit.fit(x1, y_train)"
      ],
      "execution_count": 0,
      "outputs": []
    },
    {
      "cell_type": "code",
      "metadata": {
        "id": "D8KrNqiAaW_E",
        "colab_type": "code",
        "outputId": "83098cf5-a7cd-4d4e-f8e1-74893545c029",
        "colab": {
          "base_uri": "https://localhost:8080/",
          "height": 424
        }
      },
      "source": [
        "logit_pred = model.predict(x2)\n",
        "print(\"Multiclass Logistic Regression Test error: \")\n",
        "print(np.mean(logit_pred != y_test))\n",
        "pd.crosstab(logit_pred, y_test, rownames = ['predicted'], colnames = ['actual'], normalize = \"columns\" )"
      ],
      "execution_count": 0,
      "outputs": [
        {
          "output_type": "stream",
          "text": [
            "Multiclass Logistic Regression Test error: \n",
            "0.0802\n"
          ],
          "name": "stdout"
        },
        {
          "output_type": "execute_result",
          "data": {
            "text/html": [
              "<div>\n",
              "<style scoped>\n",
              "    .dataframe tbody tr th:only-of-type {\n",
              "        vertical-align: middle;\n",
              "    }\n",
              "\n",
              "    .dataframe tbody tr th {\n",
              "        vertical-align: top;\n",
              "    }\n",
              "\n",
              "    .dataframe thead th {\n",
              "        text-align: right;\n",
              "    }\n",
              "</style>\n",
              "<table border=\"1\" class=\"dataframe\">\n",
              "  <thead>\n",
              "    <tr style=\"text-align: right;\">\n",
              "      <th>actual</th>\n",
              "      <th>0</th>\n",
              "      <th>1</th>\n",
              "      <th>2</th>\n",
              "      <th>3</th>\n",
              "      <th>4</th>\n",
              "      <th>5</th>\n",
              "      <th>6</th>\n",
              "      <th>7</th>\n",
              "      <th>8</th>\n",
              "      <th>9</th>\n",
              "    </tr>\n",
              "    <tr>\n",
              "      <th>predicted</th>\n",
              "      <th></th>\n",
              "      <th></th>\n",
              "      <th></th>\n",
              "      <th></th>\n",
              "      <th></th>\n",
              "      <th></th>\n",
              "      <th></th>\n",
              "      <th></th>\n",
              "      <th></th>\n",
              "      <th></th>\n",
              "    </tr>\n",
              "  </thead>\n",
              "  <tbody>\n",
              "    <tr>\n",
              "      <th>0</th>\n",
              "      <td>0.978571</td>\n",
              "      <td>0.000000</td>\n",
              "      <td>0.008721</td>\n",
              "      <td>0.003960</td>\n",
              "      <td>0.001018</td>\n",
              "      <td>0.011211</td>\n",
              "      <td>0.009395</td>\n",
              "      <td>0.001946</td>\n",
              "      <td>0.010267</td>\n",
              "      <td>0.007929</td>\n",
              "    </tr>\n",
              "    <tr>\n",
              "      <th>1</th>\n",
              "      <td>0.000000</td>\n",
              "      <td>0.979736</td>\n",
              "      <td>0.007752</td>\n",
              "      <td>0.000000</td>\n",
              "      <td>0.002037</td>\n",
              "      <td>0.002242</td>\n",
              "      <td>0.003132</td>\n",
              "      <td>0.006809</td>\n",
              "      <td>0.014374</td>\n",
              "      <td>0.007929</td>\n",
              "    </tr>\n",
              "    <tr>\n",
              "      <th>2</th>\n",
              "      <td>0.001020</td>\n",
              "      <td>0.002643</td>\n",
              "      <td>0.891473</td>\n",
              "      <td>0.016832</td>\n",
              "      <td>0.005092</td>\n",
              "      <td>0.000000</td>\n",
              "      <td>0.007307</td>\n",
              "      <td>0.021401</td>\n",
              "      <td>0.005133</td>\n",
              "      <td>0.001982</td>\n",
              "    </tr>\n",
              "    <tr>\n",
              "      <th>3</th>\n",
              "      <td>0.002041</td>\n",
              "      <td>0.000881</td>\n",
              "      <td>0.019380</td>\n",
              "      <td>0.908911</td>\n",
              "      <td>0.003055</td>\n",
              "      <td>0.047085</td>\n",
              "      <td>0.002088</td>\n",
              "      <td>0.004864</td>\n",
              "      <td>0.021561</td>\n",
              "      <td>0.012884</td>\n",
              "    </tr>\n",
              "    <tr>\n",
              "      <th>4</th>\n",
              "      <td>0.000000</td>\n",
              "      <td>0.000000</td>\n",
              "      <td>0.008721</td>\n",
              "      <td>0.001980</td>\n",
              "      <td>0.931772</td>\n",
              "      <td>0.011211</td>\n",
              "      <td>0.006263</td>\n",
              "      <td>0.007782</td>\n",
              "      <td>0.015400</td>\n",
              "      <td>0.030723</td>\n",
              "    </tr>\n",
              "    <tr>\n",
              "      <th>5</th>\n",
              "      <td>0.005102</td>\n",
              "      <td>0.000881</td>\n",
              "      <td>0.003876</td>\n",
              "      <td>0.022772</td>\n",
              "      <td>0.000000</td>\n",
              "      <td>0.862108</td>\n",
              "      <td>0.020877</td>\n",
              "      <td>0.000973</td>\n",
              "      <td>0.028747</td>\n",
              "      <td>0.013875</td>\n",
              "    </tr>\n",
              "    <tr>\n",
              "      <th>6</th>\n",
              "      <td>0.006122</td>\n",
              "      <td>0.004405</td>\n",
              "      <td>0.009690</td>\n",
              "      <td>0.003960</td>\n",
              "      <td>0.010183</td>\n",
              "      <td>0.019058</td>\n",
              "      <td>0.946764</td>\n",
              "      <td>0.000973</td>\n",
              "      <td>0.008214</td>\n",
              "      <td>0.000000</td>\n",
              "    </tr>\n",
              "    <tr>\n",
              "      <th>7</th>\n",
              "      <td>0.004082</td>\n",
              "      <td>0.000881</td>\n",
              "      <td>0.010659</td>\n",
              "      <td>0.011881</td>\n",
              "      <td>0.002037</td>\n",
              "      <td>0.007848</td>\n",
              "      <td>0.001044</td>\n",
              "      <td>0.925097</td>\n",
              "      <td>0.011294</td>\n",
              "      <td>0.023786</td>\n",
              "    </tr>\n",
              "    <tr>\n",
              "      <th>8</th>\n",
              "      <td>0.001020</td>\n",
              "      <td>0.010573</td>\n",
              "      <td>0.035853</td>\n",
              "      <td>0.020792</td>\n",
              "      <td>0.006110</td>\n",
              "      <td>0.031390</td>\n",
              "      <td>0.003132</td>\n",
              "      <td>0.004864</td>\n",
              "      <td>0.872690</td>\n",
              "      <td>0.011893</td>\n",
              "    </tr>\n",
              "    <tr>\n",
              "      <th>9</th>\n",
              "      <td>0.002041</td>\n",
              "      <td>0.000000</td>\n",
              "      <td>0.003876</td>\n",
              "      <td>0.008911</td>\n",
              "      <td>0.038697</td>\n",
              "      <td>0.007848</td>\n",
              "      <td>0.000000</td>\n",
              "      <td>0.025292</td>\n",
              "      <td>0.012320</td>\n",
              "      <td>0.888999</td>\n",
              "    </tr>\n",
              "  </tbody>\n",
              "</table>\n",
              "</div>"
            ],
            "text/plain": [
              "actual            0         1         2  ...         7         8         9\n",
              "predicted                                ...                              \n",
              "0          0.978571  0.000000  0.008721  ...  0.001946  0.010267  0.007929\n",
              "1          0.000000  0.979736  0.007752  ...  0.006809  0.014374  0.007929\n",
              "2          0.001020  0.002643  0.891473  ...  0.021401  0.005133  0.001982\n",
              "3          0.002041  0.000881  0.019380  ...  0.004864  0.021561  0.012884\n",
              "4          0.000000  0.000000  0.008721  ...  0.007782  0.015400  0.030723\n",
              "5          0.005102  0.000881  0.003876  ...  0.000973  0.028747  0.013875\n",
              "6          0.006122  0.004405  0.009690  ...  0.000973  0.008214  0.000000\n",
              "7          0.004082  0.000881  0.010659  ...  0.925097  0.011294  0.023786\n",
              "8          0.001020  0.010573  0.035853  ...  0.004864  0.872690  0.011893\n",
              "9          0.002041  0.000000  0.003876  ...  0.025292  0.012320  0.888999\n",
              "\n",
              "[10 rows x 10 columns]"
            ]
          },
          "metadata": {
            "tags": []
          },
          "execution_count": 10
        }
      ]
    },
    {
      "cell_type": "markdown",
      "metadata": {
        "id": "a6mvLjMKNTn0",
        "colab_type": "text"
      },
      "source": [
        "The matrix tells us that the logistic model performs worst on digits 5 and 8. It performs overall worse than the SVM methods. "
      ]
    },
    {
      "cell_type": "markdown",
      "metadata": {
        "id": "_7_DiMfCOg8c",
        "colab_type": "text"
      },
      "source": [
        "### K-Nearest Neighbors\n",
        "\n",
        "We fit a KNN model to our data. We found the best model to be using K=5. Note that we chose an odd K to ensure that there were no ties for classification in the data along class boundaries.  "
      ]
    },
    {
      "cell_type": "code",
      "metadata": {
        "id": "bHRt4qmuZd0O",
        "colab_type": "code",
        "colab": {}
      },
      "source": [
        "from sklearn.neighbors import KNeighborsClassifier\n",
        "\n",
        "knn = KNeighborsClassifier(n_neighbors=5 )\n",
        "knn_model = knn.fit(x1,y_train)\n"
      ],
      "execution_count": 0,
      "outputs": []
    },
    {
      "cell_type": "code",
      "metadata": {
        "id": "c2ajGMZ7cq1E",
        "colab_type": "code",
        "colab": {}
      },
      "source": [
        "pred_knn = knn_model.predict(x2)\n",
        "print(\"KNN- test error:\")\n",
        "print(np.mean(pred_knn != y_test))\n",
        "pd.crosstab(pred_knn, y_test, rownames = ['predicted'], colnames = ['actual'], normalize = \"columns\")"
      ],
      "execution_count": 0,
      "outputs": []
    },
    {
      "cell_type": "markdown",
      "metadata": {
        "id": "xqaiECfq3b1J",
        "colab_type": "text"
      },
      "source": [
        "### Unsupervised Approaches: Other Methods\n",
        "\n",
        "\n",
        "#### K-Means Clustering\n",
        "We fitted a KMeans model with 10 clusters to the training data. We received poor results as seen in the table. There were no distinct trends apparent, so there was issues properly labelling the clusters. This is similar to the uncertain results that we found by plotting the data on the principal components. We must consider that k-means uses a distance function that may not be appropriate for working with pixel data."
      ]
    },
    {
      "cell_type": "code",
      "metadata": {
        "id": "OSUSJjBuR9ok",
        "colab_type": "code",
        "colab": {}
      },
      "source": [
        "# K means with 10 clusters\n",
        "from sklearn.cluster import KMeans\n",
        "X = x_train.reshape(len(x_train),-1)\n",
        "Y = y_train\n",
        "km = KMeans(init='k-means++',n_clusters=10).fit(X)"
      ],
      "execution_count": 0,
      "outputs": []
    },
    {
      "cell_type": "code",
      "metadata": {
        "id": "FqFp08Jdzd47",
        "colab_type": "code",
        "outputId": "e2a076d9-6646-48ea-9a43-327e66809b6d",
        "colab": {
          "base_uri": "https://localhost:8080/",
          "height": 386
        }
      },
      "source": [
        "kmpred = km.predict(x_test.reshape(len(x_test),-1))\n",
        "pd.crosstab(kmpred, y_test, rownames = ['cluster'], colnames = ['actual'])"
      ],
      "execution_count": 0,
      "outputs": [
        {
          "output_type": "execute_result",
          "data": {
            "text/html": [
              "<div>\n",
              "<style scoped>\n",
              "    .dataframe tbody tr th:only-of-type {\n",
              "        vertical-align: middle;\n",
              "    }\n",
              "\n",
              "    .dataframe tbody tr th {\n",
              "        vertical-align: top;\n",
              "    }\n",
              "\n",
              "    .dataframe thead th {\n",
              "        text-align: right;\n",
              "    }\n",
              "</style>\n",
              "<table border=\"1\" class=\"dataframe\">\n",
              "  <thead>\n",
              "    <tr style=\"text-align: right;\">\n",
              "      <th>actual</th>\n",
              "      <th>0</th>\n",
              "      <th>1</th>\n",
              "      <th>2</th>\n",
              "      <th>3</th>\n",
              "      <th>4</th>\n",
              "      <th>5</th>\n",
              "      <th>6</th>\n",
              "      <th>7</th>\n",
              "      <th>8</th>\n",
              "      <th>9</th>\n",
              "    </tr>\n",
              "    <tr>\n",
              "      <th>cluster</th>\n",
              "      <th></th>\n",
              "      <th></th>\n",
              "      <th></th>\n",
              "      <th></th>\n",
              "      <th></th>\n",
              "      <th></th>\n",
              "      <th></th>\n",
              "      <th></th>\n",
              "      <th></th>\n",
              "      <th></th>\n",
              "    </tr>\n",
              "  </thead>\n",
              "  <tbody>\n",
              "    <tr>\n",
              "      <th>0</th>\n",
              "      <td>48</td>\n",
              "      <td>2</td>\n",
              "      <td>65</td>\n",
              "      <td>696</td>\n",
              "      <td>0</td>\n",
              "      <td>287</td>\n",
              "      <td>2</td>\n",
              "      <td>0</td>\n",
              "      <td>209</td>\n",
              "      <td>7</td>\n",
              "    </tr>\n",
              "    <tr>\n",
              "      <th>1</th>\n",
              "      <td>2</td>\n",
              "      <td>1</td>\n",
              "      <td>709</td>\n",
              "      <td>40</td>\n",
              "      <td>5</td>\n",
              "      <td>4</td>\n",
              "      <td>18</td>\n",
              "      <td>13</td>\n",
              "      <td>6</td>\n",
              "      <td>3</td>\n",
              "    </tr>\n",
              "    <tr>\n",
              "      <th>2</th>\n",
              "      <td>5</td>\n",
              "      <td>469</td>\n",
              "      <td>84</td>\n",
              "      <td>7</td>\n",
              "      <td>36</td>\n",
              "      <td>105</td>\n",
              "      <td>30</td>\n",
              "      <td>57</td>\n",
              "      <td>43</td>\n",
              "      <td>11</td>\n",
              "    </tr>\n",
              "    <tr>\n",
              "      <th>3</th>\n",
              "      <td>0</td>\n",
              "      <td>660</td>\n",
              "      <td>59</td>\n",
              "      <td>73</td>\n",
              "      <td>30</td>\n",
              "      <td>23</td>\n",
              "      <td>28</td>\n",
              "      <td>59</td>\n",
              "      <td>34</td>\n",
              "      <td>29</td>\n",
              "    </tr>\n",
              "    <tr>\n",
              "      <th>4</th>\n",
              "      <td>447</td>\n",
              "      <td>0</td>\n",
              "      <td>3</td>\n",
              "      <td>1</td>\n",
              "      <td>1</td>\n",
              "      <td>9</td>\n",
              "      <td>20</td>\n",
              "      <td>1</td>\n",
              "      <td>6</td>\n",
              "      <td>4</td>\n",
              "    </tr>\n",
              "    <tr>\n",
              "      <th>5</th>\n",
              "      <td>423</td>\n",
              "      <td>0</td>\n",
              "      <td>19</td>\n",
              "      <td>18</td>\n",
              "      <td>1</td>\n",
              "      <td>38</td>\n",
              "      <td>24</td>\n",
              "      <td>1</td>\n",
              "      <td>11</td>\n",
              "      <td>10</td>\n",
              "    </tr>\n",
              "    <tr>\n",
              "      <th>6</th>\n",
              "      <td>3</td>\n",
              "      <td>0</td>\n",
              "      <td>30</td>\n",
              "      <td>15</td>\n",
              "      <td>559</td>\n",
              "      <td>56</td>\n",
              "      <td>22</td>\n",
              "      <td>292</td>\n",
              "      <td>34</td>\n",
              "      <td>541</td>\n",
              "    </tr>\n",
              "    <tr>\n",
              "      <th>7</th>\n",
              "      <td>19</td>\n",
              "      <td>1</td>\n",
              "      <td>27</td>\n",
              "      <td>146</td>\n",
              "      <td>5</td>\n",
              "      <td>281</td>\n",
              "      <td>19</td>\n",
              "      <td>1</td>\n",
              "      <td>586</td>\n",
              "      <td>13</td>\n",
              "    </tr>\n",
              "    <tr>\n",
              "      <th>8</th>\n",
              "      <td>30</td>\n",
              "      <td>2</td>\n",
              "      <td>25</td>\n",
              "      <td>7</td>\n",
              "      <td>35</td>\n",
              "      <td>19</td>\n",
              "      <td>794</td>\n",
              "      <td>1</td>\n",
              "      <td>10</td>\n",
              "      <td>4</td>\n",
              "    </tr>\n",
              "    <tr>\n",
              "      <th>9</th>\n",
              "      <td>3</td>\n",
              "      <td>0</td>\n",
              "      <td>11</td>\n",
              "      <td>7</td>\n",
              "      <td>310</td>\n",
              "      <td>70</td>\n",
              "      <td>1</td>\n",
              "      <td>603</td>\n",
              "      <td>35</td>\n",
              "      <td>387</td>\n",
              "    </tr>\n",
              "  </tbody>\n",
              "</table>\n",
              "</div>"
            ],
            "text/plain": [
              "actual     0    1    2    3    4    5    6    7    8    9\n",
              "cluster                                                  \n",
              "0         48    2   65  696    0  287    2    0  209    7\n",
              "1          2    1  709   40    5    4   18   13    6    3\n",
              "2          5  469   84    7   36  105   30   57   43   11\n",
              "3          0  660   59   73   30   23   28   59   34   29\n",
              "4        447    0    3    1    1    9   20    1    6    4\n",
              "5        423    0   19   18    1   38   24    1   11   10\n",
              "6          3    0   30   15  559   56   22  292   34  541\n",
              "7         19    1   27  146    5  281   19    1  586   13\n",
              "8         30    2   25    7   35   19  794    1   10    4\n",
              "9          3    0   11    7  310   70    1  603   35  387"
            ]
          },
          "metadata": {
            "tags": []
          },
          "execution_count": 23
        }
      ]
    },
    {
      "cell_type": "markdown",
      "metadata": {
        "id": "1nxSiOOaVYdk",
        "colab_type": "text"
      },
      "source": [
        "### Neural Network\n",
        "Finally, we tried a neural network with 2 hidden layers with 128 and 10 nodes each. The neural net is fit over 10 epochs in order to further increase the accuracy."
      ]
    },
    {
      "cell_type": "code",
      "metadata": {
        "id": "Usyr4-hcJ8sN",
        "colab_type": "code",
        "colab": {}
      },
      "source": [
        "# Two layer neural net with 128 and 10 nodes\n",
        "from tensorflow import keras\n",
        "\n",
        "neuralnet = keras.Sequential([\n",
        "    keras.layers.Flatten(input_shape = (28,28)),\n",
        "    keras.layers.Dense(128),\n",
        "    keras.layers.Dense(10)\n",
        "])"
      ],
      "execution_count": 0,
      "outputs": []
    },
    {
      "cell_type": "code",
      "metadata": {
        "id": "Eb3t_mxtKCKA",
        "colab_type": "code",
        "colab": {
          "base_uri": "https://localhost:8080/",
          "height": 408
        },
        "outputId": "8a1fdf27-79fd-4329-a3a5-575b83037b74"
      },
      "source": [
        "neuralnet.compile(optimizer='adam',\n",
        "              loss=tf.keras.losses.SparseCategoricalCrossentropy(from_logits=True),\n",
        "              metrics=['accuracy'])\n",
        "neuralnet.fit(x_train, y_train, epochs = 10)\n",
        "test_loss, test_acc = neuralnet.evaluate(x_test, y_test, verbose = 2)\n",
        "\n",
        "print('\\nTest accuracy:', test_acc)\n",
        "probability_model = tf.keras.Sequential([neuralnet, \n",
        "                                         tf.keras.layers.Softmax()])\n",
        "predictions = probability_model.predict(x_test)"
      ],
      "execution_count": 9,
      "outputs": [
        {
          "output_type": "stream",
          "text": [
            "Epoch 1/10\n",
            "1875/1875 [==============================] - 4s 2ms/step - loss: 0.3589 - accuracy: 0.8971\n",
            "Epoch 2/10\n",
            "1875/1875 [==============================] - 3s 2ms/step - loss: 0.2986 - accuracy: 0.9167\n",
            "Epoch 3/10\n",
            "1875/1875 [==============================] - 3s 2ms/step - loss: 0.2870 - accuracy: 0.9195\n",
            "Epoch 4/10\n",
            "1875/1875 [==============================] - 3s 2ms/step - loss: 0.2803 - accuracy: 0.9217\n",
            "Epoch 5/10\n",
            "1875/1875 [==============================] - 4s 2ms/step - loss: 0.2759 - accuracy: 0.9232\n",
            "Epoch 6/10\n",
            "1875/1875 [==============================] - 4s 2ms/step - loss: 0.2740 - accuracy: 0.9233\n",
            "Epoch 7/10\n",
            "1875/1875 [==============================] - 3s 2ms/step - loss: 0.2708 - accuracy: 0.9247\n",
            "Epoch 8/10\n",
            "1875/1875 [==============================] - 3s 2ms/step - loss: 0.2685 - accuracy: 0.9246\n",
            "Epoch 9/10\n",
            "1875/1875 [==============================] - 4s 2ms/step - loss: 0.2659 - accuracy: 0.9258\n",
            "Epoch 10/10\n",
            "1875/1875 [==============================] - 4s 2ms/step - loss: 0.2640 - accuracy: 0.9266\n",
            "313/313 - 0s - loss: 0.2939 - accuracy: 0.9193\n",
            "\n",
            "Test accuracy: 0.9193000197410583\n"
          ],
          "name": "stdout"
        }
      ]
    },
    {
      "cell_type": "code",
      "metadata": {
        "id": "UwGlXo76HZhT",
        "colab_type": "code",
        "colab": {
          "base_uri": "https://localhost:8080/",
          "height": 390
        },
        "outputId": "1ea19029-38c8-4c3b-e2e6-c35fe32d1504"
      },
      "source": [
        "nn_pred = np.arange(len(x_test))\n",
        "for i in range(len(x_test)):\n",
        "  pred_label = np.argmax(predictions[i])\n",
        "  nn_pred[i] = pred_label\n",
        "#nn_df = pd.DataFrame([nn_pred,y_test])\n",
        "pd.crosstab(nn_pred, y_test, rownames = ['cluster'], colnames = ['actual'], normalize = \"columns\")"
      ],
      "execution_count": 10,
      "outputs": [
        {
          "output_type": "execute_result",
          "data": {
            "text/html": [
              "<div>\n",
              "<style scoped>\n",
              "    .dataframe tbody tr th:only-of-type {\n",
              "        vertical-align: middle;\n",
              "    }\n",
              "\n",
              "    .dataframe tbody tr th {\n",
              "        vertical-align: top;\n",
              "    }\n",
              "\n",
              "    .dataframe thead th {\n",
              "        text-align: right;\n",
              "    }\n",
              "</style>\n",
              "<table border=\"1\" class=\"dataframe\">\n",
              "  <thead>\n",
              "    <tr style=\"text-align: right;\">\n",
              "      <th>actual</th>\n",
              "      <th>0</th>\n",
              "      <th>1</th>\n",
              "      <th>2</th>\n",
              "      <th>3</th>\n",
              "      <th>4</th>\n",
              "      <th>5</th>\n",
              "      <th>6</th>\n",
              "      <th>7</th>\n",
              "      <th>8</th>\n",
              "      <th>9</th>\n",
              "    </tr>\n",
              "    <tr>\n",
              "      <th>cluster</th>\n",
              "      <th></th>\n",
              "      <th></th>\n",
              "      <th></th>\n",
              "      <th></th>\n",
              "      <th></th>\n",
              "      <th></th>\n",
              "      <th></th>\n",
              "      <th></th>\n",
              "      <th></th>\n",
              "      <th></th>\n",
              "    </tr>\n",
              "  </thead>\n",
              "  <tbody>\n",
              "    <tr>\n",
              "      <th>0</th>\n",
              "      <td>0.948980</td>\n",
              "      <td>0.000000</td>\n",
              "      <td>0.002907</td>\n",
              "      <td>0.000990</td>\n",
              "      <td>0.001018</td>\n",
              "      <td>0.005605</td>\n",
              "      <td>0.005219</td>\n",
              "      <td>0.000000</td>\n",
              "      <td>0.003080</td>\n",
              "      <td>0.003964</td>\n",
              "    </tr>\n",
              "    <tr>\n",
              "      <th>1</th>\n",
              "      <td>0.000000</td>\n",
              "      <td>0.977974</td>\n",
              "      <td>0.007752</td>\n",
              "      <td>0.000000</td>\n",
              "      <td>0.002037</td>\n",
              "      <td>0.004484</td>\n",
              "      <td>0.003132</td>\n",
              "      <td>0.007782</td>\n",
              "      <td>0.006160</td>\n",
              "      <td>0.007929</td>\n",
              "    </tr>\n",
              "    <tr>\n",
              "      <th>2</th>\n",
              "      <td>0.002041</td>\n",
              "      <td>0.002643</td>\n",
              "      <td>0.859496</td>\n",
              "      <td>0.007921</td>\n",
              "      <td>0.002037</td>\n",
              "      <td>0.002242</td>\n",
              "      <td>0.003132</td>\n",
              "      <td>0.016537</td>\n",
              "      <td>0.003080</td>\n",
              "      <td>0.000991</td>\n",
              "    </tr>\n",
              "    <tr>\n",
              "      <th>3</th>\n",
              "      <td>0.005102</td>\n",
              "      <td>0.001762</td>\n",
              "      <td>0.031977</td>\n",
              "      <td>0.937624</td>\n",
              "      <td>0.003055</td>\n",
              "      <td>0.059417</td>\n",
              "      <td>0.002088</td>\n",
              "      <td>0.007782</td>\n",
              "      <td>0.028747</td>\n",
              "      <td>0.012884</td>\n",
              "    </tr>\n",
              "    <tr>\n",
              "      <th>4</th>\n",
              "      <td>0.002041</td>\n",
              "      <td>0.000881</td>\n",
              "      <td>0.011628</td>\n",
              "      <td>0.005941</td>\n",
              "      <td>0.927699</td>\n",
              "      <td>0.015695</td>\n",
              "      <td>0.007307</td>\n",
              "      <td>0.007782</td>\n",
              "      <td>0.013347</td>\n",
              "      <td>0.021804</td>\n",
              "    </tr>\n",
              "    <tr>\n",
              "      <th>5</th>\n",
              "      <td>0.012245</td>\n",
              "      <td>0.000881</td>\n",
              "      <td>0.002907</td>\n",
              "      <td>0.010891</td>\n",
              "      <td>0.000000</td>\n",
              "      <td>0.829596</td>\n",
              "      <td>0.007307</td>\n",
              "      <td>0.000973</td>\n",
              "      <td>0.019507</td>\n",
              "      <td>0.004955</td>\n",
              "    </tr>\n",
              "    <tr>\n",
              "      <th>6</th>\n",
              "      <td>0.020408</td>\n",
              "      <td>0.003524</td>\n",
              "      <td>0.017442</td>\n",
              "      <td>0.002970</td>\n",
              "      <td>0.014257</td>\n",
              "      <td>0.028027</td>\n",
              "      <td>0.968685</td>\n",
              "      <td>0.000000</td>\n",
              "      <td>0.017454</td>\n",
              "      <td>0.000000</td>\n",
              "    </tr>\n",
              "    <tr>\n",
              "      <th>7</th>\n",
              "      <td>0.005102</td>\n",
              "      <td>0.001762</td>\n",
              "      <td>0.015504</td>\n",
              "      <td>0.010891</td>\n",
              "      <td>0.004073</td>\n",
              "      <td>0.011211</td>\n",
              "      <td>0.002088</td>\n",
              "      <td>0.924125</td>\n",
              "      <td>0.011294</td>\n",
              "      <td>0.020813</td>\n",
              "    </tr>\n",
              "    <tr>\n",
              "      <th>8</th>\n",
              "      <td>0.003061</td>\n",
              "      <td>0.010573</td>\n",
              "      <td>0.041667</td>\n",
              "      <td>0.016832</td>\n",
              "      <td>0.007128</td>\n",
              "      <td>0.033632</td>\n",
              "      <td>0.001044</td>\n",
              "      <td>0.002918</td>\n",
              "      <td>0.883984</td>\n",
              "      <td>0.005946</td>\n",
              "    </tr>\n",
              "    <tr>\n",
              "      <th>9</th>\n",
              "      <td>0.001020</td>\n",
              "      <td>0.000000</td>\n",
              "      <td>0.008721</td>\n",
              "      <td>0.005941</td>\n",
              "      <td>0.038697</td>\n",
              "      <td>0.010090</td>\n",
              "      <td>0.000000</td>\n",
              "      <td>0.032101</td>\n",
              "      <td>0.013347</td>\n",
              "      <td>0.920714</td>\n",
              "    </tr>\n",
              "  </tbody>\n",
              "</table>\n",
              "</div>"
            ],
            "text/plain": [
              "actual          0         1         2  ...         7         8         9\n",
              "cluster                                ...                              \n",
              "0        0.948980  0.000000  0.002907  ...  0.000000  0.003080  0.003964\n",
              "1        0.000000  0.977974  0.007752  ...  0.007782  0.006160  0.007929\n",
              "2        0.002041  0.002643  0.859496  ...  0.016537  0.003080  0.000991\n",
              "3        0.005102  0.001762  0.031977  ...  0.007782  0.028747  0.012884\n",
              "4        0.002041  0.000881  0.011628  ...  0.007782  0.013347  0.021804\n",
              "5        0.012245  0.000881  0.002907  ...  0.000973  0.019507  0.004955\n",
              "6        0.020408  0.003524  0.017442  ...  0.000000  0.017454  0.000000\n",
              "7        0.005102  0.001762  0.015504  ...  0.924125  0.011294  0.020813\n",
              "8        0.003061  0.010573  0.041667  ...  0.002918  0.883984  0.005946\n",
              "9        0.001020  0.000000  0.008721  ...  0.032101  0.013347  0.920714\n",
              "\n",
              "[10 rows x 10 columns]"
            ]
          },
          "metadata": {
            "tags": []
          },
          "execution_count": 10
        }
      ]
    },
    {
      "cell_type": "markdown",
      "metadata": {
        "id": "JDY5JIOyVhgd",
        "colab_type": "text"
      },
      "source": [
        "The final test accuracy of the model is quite good, and the diagonal of the table shows the percentage of properly classified samples for each digit."
      ]
    },
    {
      "cell_type": "code",
      "metadata": {
        "id": "QW9FMZxcKLl3",
        "colab_type": "code",
        "outputId": "7457888d-36ff-4292-a6cd-c0c932fb1c83",
        "colab": {
          "base_uri": "https://localhost:8080/",
          "height": 297
        }
      },
      "source": [
        "for i in range(25):\n",
        "    ax = plt.subplot(5,5,i+1)\n",
        "    plt.xticks([])\n",
        "    plt.yticks([])\n",
        "    plt.grid(False)\n",
        "    plt.imshow(x_test[i], cmap=plt.cm.binary)\n",
        "    predicted_label = np.argmax(predictions[i])\n",
        "    if predicted_label == y_test[i]:\n",
        "        color = 'green'\n",
        "        label = \": Correct\"\n",
        "    else:\n",
        "        color = 'red'\n",
        "        label = \": Incorrect\"\n",
        "    ax.set_xlabel(str(predicted_label) + label, color=color)\n",
        "plt.tight_layout()"
      ],
      "execution_count": 0,
      "outputs": [
        {
          "output_type": "display_data",
          "data": {
            "image/png": "[encoded data removed]",
            "text/plain": [
              "<Figure size 432x288 with 25 Axes>"
            ]
          },
          "metadata": {
            "tags": []
          }
        }
      ]
    },
    {
      "cell_type": "markdown",
      "metadata": {
        "id": "ejUZOV-UXbse",
        "colab_type": "text"
      },
      "source": [
        "# Results\n",
        "Overall the neural network was the highest performing unsupervized model.  Perhaps the model can be improved by testing different combinations and sizes of layers.\n",
        "\n",
        "For the supervised methods, we found that ..."
      ]
    }
  ]
}